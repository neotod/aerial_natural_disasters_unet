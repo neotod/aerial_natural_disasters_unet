{
 "cells": [
  {
   "cell_type": "code",
   "execution_count": 1,
   "metadata": {},
   "outputs": [
    {
     "name": "stdout",
     "output_type": "stream",
     "text": [
      "/run/media/neotod/joint/compsci/projects/unet_pytorch/notebooks\n"
     ]
    }
   ],
   "source": [
    "!pwd"
   ]
  },
  {
   "cell_type": "code",
   "execution_count": 2,
   "metadata": {},
   "outputs": [],
   "source": [
    "import os\n",
    "\n",
    "os.chdir('../')\n",
    "\n",
    "import numpy as np\n",
    "import time\n",
    "import json\n",
    "import shutil\n",
    "\n",
    "import torch\n",
    "import torch.nn as nn\n",
    "from torch.optim import lr_scheduler\n",
    "import segmentation_models_pytorch as smp\n",
    "from src import data_loader\n",
    "\n",
    "import matplotlib.pyplot as plt"
   ]
  },
  {
   "cell_type": "code",
   "execution_count": 3,
   "metadata": {},
   "outputs": [
    {
     "name": "stdout",
     "output_type": "stream",
     "text": [
      "/home/neotod/unet_pytorch\n"
     ]
    }
   ],
   "source": [
    "!pwd\n",
    "\n",
    "\n",
    "class_color_maps = {'0': (0, 0, 0), # background -> black\n",
    " '1': (234, 155, 162),\n",
    " '2': (211, 78, 67),\n",
    " '3': (237, 231, 159),\n",
    " '4': (145, 209, 61),\n",
    " '5': (137, 193, 198),\n",
    " '6': (27, 230, 195),\n",
    " '7': (52, 138, 174),\n",
    " '8': (216, 86, 141),\n",
    " '9': (243, 157, 207),\n",
    " '10': (118, 176, 70),\n",
    " '11': (238, 173, 77),\n",
    " '12': (205, 219, 90),\n",
    " '13': (43, 56, 153)}\n",
    "\n",
    "\n",
    "\n",
    "# Define the number of classes\n",
    "num_classes = len(class_color_maps)\n",
    "\n",
    "# Define a function to annotate the classes in the ground truth\n",
    "def annotate_classes(mask):\n",
    "    # Create an output image with the same shape as the input mask\n",
    "    h, w = mask.shape[:2]\n",
    "    output = np.zeros((h, w, 3), dtype=np.uint8)\n",
    "\n",
    "    for class_, color in class_color_maps.items():\n",
    "        output[mask == int(class_)] = color\n",
    "\n",
    "    return output\n",
    "\n",
    "def show_imgs(x,y,y_pred):\n",
    "    n = x.shape[0]\n",
    "    \n",
    "    fig, ax = plt.subplots(n, 3, figsize=(3*5, n*5))\n",
    "\n",
    "    for i, (img, mask, mask_pred) in enumerate(zip(x,y,y_pred)):\n",
    "        \n",
    "        ax[i][0].imshow(img.permute(1,2,0).detach().cpu())\n",
    "        ax[i][1].imshow(annotate_classes(mask.detach().cpu()))\n",
    "\n",
    "        mask_pred = mask_pred.permute(1,2,0).detach().cpu().numpy()\n",
    "        mask_pred = np.argmax(mask_pred, axis=2)\n",
    "        \n",
    "        ax[i][2].imshow(annotate_classes(mask_pred))\n"
   ]
  },
  {
   "cell_type": "code",
   "execution_count": 4,
   "metadata": {},
   "outputs": [],
   "source": [
    "device = ('cuda' if torch.cuda.is_available() else 'cpu')\n",
    "\n",
    "args = {\n",
    "   \"train_dir\": \"./data/\",\n",
    "   \"lr\": 0.1,\n",
    "   \"epochs\": 10,\n",
    "   \"validation_split\": 0.2,\n",
    "   \"batch_size\": 4,\n",
    "   \"encoder\": \"resnet18\",\n",
    "   \"debug\": False,\n",
    "   \"checkpoints_dir\": \"./checkpoints/\",\n",
    "   \"continue_epoch\": 0,\n",
    "   \"loss\": \"ce\"\n",
    "}"
   ]
  },
  {
   "cell_type": "code",
   "execution_count": 5,
   "metadata": {},
   "outputs": [
    {
     "name": "stdout",
     "output_type": "stream",
     "text": [
      "/home/neotod/unet_pytorch\n"
     ]
    }
   ],
   "source": [
    "!pwd\n",
    "\n",
    "def get_lr(optimizer):\n",
    "    for param_group in optimizer.param_groups:\n",
    "        return param_group[\"lr\"]"
   ]
  },
  {
   "cell_type": "code",
   "execution_count": 13,
   "metadata": {},
   "outputs": [
    {
     "name": "stdout",
     "output_type": "stream",
     "text": [
      "/home/neotod/unet_pytorch\n"
     ]
    },
    {
     "ename": "ValueError",
     "evalue": "mode is invalid and scale_fn is None",
     "output_type": "error",
     "traceback": [
      "\u001b[0;31m---------------------------------------------------------------------------\u001b[0m",
      "\u001b[0;31mValueError\u001b[0m                                Traceback (most recent call last)",
      "\u001b[1;32m/run/media/neotod/joint/compsci/projects/unet_pytorch/notebooks/train.ipynb Cell 6\u001b[0m in \u001b[0;36m<cell line: 52>\u001b[0;34m()\u001b[0m\n\u001b[1;32m     <a href='vscode-notebook-cell:/run/media/neotod/joint/compsci/projects/unet_pytorch/notebooks/train.ipynb#W3sZmlsZQ%3D%3D?line=48'>49</a>\u001b[0m \u001b[39mfor\u001b[39;00m param \u001b[39min\u001b[39;00m model\u001b[39m.\u001b[39mencoder\u001b[39m.\u001b[39mparameters():\n\u001b[1;32m     <a href='vscode-notebook-cell:/run/media/neotod/joint/compsci/projects/unet_pytorch/notebooks/train.ipynb#W3sZmlsZQ%3D%3D?line=49'>50</a>\u001b[0m     param\u001b[39m.\u001b[39mrequires_grad \u001b[39m=\u001b[39m \u001b[39mFalse\u001b[39;00m\n\u001b[0;32m---> <a href='vscode-notebook-cell:/run/media/neotod/joint/compsci/projects/unet_pytorch/notebooks/train.ipynb#W3sZmlsZQ%3D%3D?line=51'>52</a>\u001b[0m lr_sched \u001b[39m=\u001b[39m lr_scheduler\u001b[39m.\u001b[39;49mCyclicLR(\n\u001b[1;32m     <a href='vscode-notebook-cell:/run/media/neotod/joint/compsci/projects/unet_pytorch/notebooks/train.ipynb#W3sZmlsZQ%3D%3D?line=52'>53</a>\u001b[0m     opt,\n\u001b[1;32m     <a href='vscode-notebook-cell:/run/media/neotod/joint/compsci/projects/unet_pytorch/notebooks/train.ipynb#W3sZmlsZQ%3D%3D?line=53'>54</a>\u001b[0m     \u001b[39m5e-3\u001b[39;49m,\n\u001b[1;32m     <a href='vscode-notebook-cell:/run/media/neotod/joint/compsci/projects/unet_pytorch/notebooks/train.ipynb#W3sZmlsZQ%3D%3D?line=54'>55</a>\u001b[0m     \u001b[39m25e-3\u001b[39;49m,\n\u001b[1;32m     <a href='vscode-notebook-cell:/run/media/neotod/joint/compsci/projects/unet_pytorch/notebooks/train.ipynb#W3sZmlsZQ%3D%3D?line=55'>56</a>\u001b[0m     step_size_up\u001b[39m=\u001b[39;49m\u001b[39mlen\u001b[39;49m(train_dl) \u001b[39m*\u001b[39;49m \u001b[39m2\u001b[39;49m,\n\u001b[1;32m     <a href='vscode-notebook-cell:/run/media/neotod/joint/compsci/projects/unet_pytorch/notebooks/train.ipynb#W3sZmlsZQ%3D%3D?line=56'>57</a>\u001b[0m     mode\u001b[39m=\u001b[39;49m\u001b[39m\"\u001b[39;49m\u001b[39mcrap\u001b[39;49m\u001b[39m\"\u001b[39;49m,\n\u001b[1;32m     <a href='vscode-notebook-cell:/run/media/neotod/joint/compsci/projects/unet_pytorch/notebooks/train.ipynb#W3sZmlsZQ%3D%3D?line=57'>58</a>\u001b[0m     gamma\u001b[39m=\u001b[39;49m\u001b[39m0.99995\u001b[39;49m,\n\u001b[1;32m     <a href='vscode-notebook-cell:/run/media/neotod/joint/compsci/projects/unet_pytorch/notebooks/train.ipynb#W3sZmlsZQ%3D%3D?line=58'>59</a>\u001b[0m     cycle_momentum\u001b[39m=\u001b[39;49m\u001b[39mFalse\u001b[39;49;00m,\n\u001b[1;32m     <a href='vscode-notebook-cell:/run/media/neotod/joint/compsci/projects/unet_pytorch/notebooks/train.ipynb#W3sZmlsZQ%3D%3D?line=59'>60</a>\u001b[0m )\n\u001b[1;32m     <a href='vscode-notebook-cell:/run/media/neotod/joint/compsci/projects/unet_pytorch/notebooks/train.ipynb#W3sZmlsZQ%3D%3D?line=61'>62</a>\u001b[0m model\u001b[39m.\u001b[39mto(device)\n\u001b[1;32m     <a href='vscode-notebook-cell:/run/media/neotod/joint/compsci/projects/unet_pytorch/notebooks/train.ipynb#W3sZmlsZQ%3D%3D?line=63'>64</a>\u001b[0m train_losses \u001b[39m=\u001b[39m []\n",
      "File \u001b[0;32m~/anaconda3/lib/python3.9/site-packages/torch/optim/lr_scheduler.py:1218\u001b[0m, in \u001b[0;36mCyclicLR.__init__\u001b[0;34m(self, optimizer, base_lr, max_lr, step_size_up, step_size_down, mode, gamma, scale_fn, scale_mode, cycle_momentum, base_momentum, max_momentum, last_epoch, verbose)\u001b[0m\n\u001b[1;32m   1214\u001b[0m \u001b[39mself\u001b[39m\u001b[39m.\u001b[39mstep_ratio \u001b[39m=\u001b[39m step_size_up \u001b[39m/\u001b[39m \u001b[39mself\u001b[39m\u001b[39m.\u001b[39mtotal_size\n\u001b[1;32m   1216\u001b[0m \u001b[39mif\u001b[39;00m mode \u001b[39mnot\u001b[39;00m \u001b[39min\u001b[39;00m [\u001b[39m'\u001b[39m\u001b[39mtriangular\u001b[39m\u001b[39m'\u001b[39m, \u001b[39m'\u001b[39m\u001b[39mtriangular2\u001b[39m\u001b[39m'\u001b[39m, \u001b[39m'\u001b[39m\u001b[39mexp_range\u001b[39m\u001b[39m'\u001b[39m] \\\n\u001b[1;32m   1217\u001b[0m         \u001b[39mand\u001b[39;00m scale_fn \u001b[39mis\u001b[39;00m \u001b[39mNone\u001b[39;00m:\n\u001b[0;32m-> 1218\u001b[0m     \u001b[39mraise\u001b[39;00m \u001b[39mValueError\u001b[39;00m(\u001b[39m'\u001b[39m\u001b[39mmode is invalid and scale_fn is None\u001b[39m\u001b[39m'\u001b[39m)\n\u001b[1;32m   1220\u001b[0m \u001b[39mself\u001b[39m\u001b[39m.\u001b[39mmode \u001b[39m=\u001b[39m mode\n\u001b[1;32m   1221\u001b[0m \u001b[39mself\u001b[39m\u001b[39m.\u001b[39mgamma \u001b[39m=\u001b[39m gamma\n",
      "\u001b[0;31mValueError\u001b[0m: mode is invalid and scale_fn is None"
     ]
    }
   ],
   "source": [
    "!pwd\n",
    "\n",
    "if args['loss'] == 'focal':\n",
    "    loss_ = smp.losses.FocalLoss(mode='multiclass', gamma=3/4)\n",
    "elif args['loss'] == 'dice':\n",
    "    loss_ = smp.losses.DiceLoss(mode='multiclass')\n",
    "elif args['loss'] == 'ce':\n",
    "    loss_ = nn.CrossEntropyLoss()\n",
    "else:\n",
    "    raise Exception('Loss is not valid.')\n",
    "\n",
    "\n",
    "train_dl, val_dl = data_loader.get_train_data_loaders(args['train_dir'], args['validation_split'], args['batch_size'])\n",
    "\n",
    "if args['continue_epoch'] != 0:\n",
    "    model_path = os.path.join(args['checkpoints_dir'], f\"checkpoint_{args['continue_epoch']}\", 'model.pth')\n",
    "    smp_configs_path = os.path.join(args['checkpoints_dir'], f\"checkpoint_{args['continue_epoch']}\", 'smp_configs.json')\n",
    "\n",
    "    with open(smp_configs_path, 'r') as f:\n",
    "        smp_configs = json.load(f)\n",
    "\n",
    "    model = smp.Unet(\n",
    "        encoder_name=smp_configs['encoder'],\n",
    "        encoder_weights='imagenet',\n",
    "        in_channels=3,\n",
    "        classes=14\n",
    "    )\n",
    "\n",
    "    if os.path.exists(model_path):\n",
    "        model.load_state_dict(\n",
    "            torch.load(\n",
    "                model_path\n",
    "            )\n",
    "        )\n",
    "        print(f\"model loaded from save checkpoint at epoch {args['continue_epoch']}\")\n",
    "    else:\n",
    "        print(f\"can't fine the loaded model checkpoint at epoch {args['continue_epoch']} at {model_path}\")\n",
    "\n",
    "else:\n",
    "    model = smp.Unet(\n",
    "        encoder_name=args['encoder'],\n",
    "        encoder_weights='imagenet',\n",
    "        in_channels=3,\n",
    "        classes=14\n",
    "    )\n",
    "\n",
    "opt = torch.optim.Adam(model.parameters(), lr=args['lr'])\n",
    "# freezing encoder's weights\n",
    "for param in model.encoder.parameters():\n",
    "    param.requires_grad = False\n",
    "\n",
    "lr_sched = lr_scheduler.CyclicLR(\n",
    "    opt,\n",
    "    5e-3,\n",
    "    25e-3,\n",
    "    step_size_up=len(train_dl) * 2,\n",
    "    mode=\"exp_range\",\n",
    "    gamma=0.99995,\n",
    "    cycle_momentum=False,\n",
    ")\n",
    "\n",
    "model.to(device)\n",
    "\n",
    "train_losses = []\n",
    "val_losses = []\n",
    "\n",
    "lrs = []\n",
    "\n",
    "for ep in range(args['epochs']):\n",
    "    train_loss = 0\n",
    "    t1 = time.time()\n",
    "\n",
    "    model.train()\n",
    "\n",
    "    train_dl.dataset.dataset.phase = 'train'\n",
    "    for (x,y) in train_dl:\n",
    "        x = x.to(device)\n",
    "\n",
    "        y_pred = model(x)\n",
    "        y = y.to(device)\n",
    "\n",
    "        opt.zero_grad()\n",
    "        loss_i = loss_(y_pred, y)\n",
    "\n",
    "        loss_i.backward()\n",
    "        opt.step()\n",
    "\n",
    "        train_loss += loss_i.item()\n",
    "\n",
    "        if args['debug']:\n",
    "            show_imgs(x,y,y_pred)\n",
    "\n",
    "        lr_sched.step()\n",
    "        lrs.append(get_lr(opt))\n",
    "    \n",
    "    train_loss /= len(train_dl)\n",
    "    train_losses.append(train_loss)\n",
    "\n",
    "    val_loss = 0\n",
    "    val_dl.dataset.dataset.phase = 'val'\n",
    "    model.eval()\n",
    "    with torch.no_grad():\n",
    "        for (x,y) in val_dl:\n",
    "            x = x.to(device)\n",
    "\n",
    "            y_pred = model(x)\n",
    "            y = y.to(device)\n",
    "\n",
    "            val_loss += loss_(y_pred, y).item()\n",
    "        \n",
    "        val_loss /= len(val_dl)\n",
    "        val_losses.append(val_loss)\n",
    "\n",
    "    print('epoch: {epoch} | train_loss: {loss} | val_loss: {val_loss} | time: {time:.3f}s'.format(epoch=ep+1, loss=loss_i, time=time.time() - t1, val_loss=val_loss))\n",
    "\n",
    "    # save checkpoint\n",
    "    checkpoint_dir = os.path.join(args['checkpoints_dir'], f'checkpoint_{ep}')\n",
    "    shutil.rmtree(checkpoint_dir, ignore_errors=True)\n",
    "    os.mkdir(checkpoint_dir)\n",
    "    torch.save(model.state_dict(), os.path.join(checkpoint_dir, 'model.pth'))\n",
    "    with open(os.path.join(checkpoint_dir, 'smp_configs.json'), 'w') as f:\n",
    "        json.dump({\n",
    "            \"encoder\": args['encoder']\n",
    "        }, f)\n",
    "\n",
    "    print(f'model .pth and smp configs at epoch {ep} saved!')\n",
    "    print()\n"
   ]
  },
  {
   "cell_type": "code",
   "execution_count": 12,
   "metadata": {},
   "outputs": [
    {
     "data": {
      "text/plain": [
       "[<matplotlib.lines.Line2D at 0x7fb1ddf04f10>]"
      ]
     },
     "execution_count": 12,
     "metadata": {},
     "output_type": "execute_result"
    },
    {
     "data": {
      "image/png": "[encoded data removed]",
      "text/plain": [
       "<Figure size 432x288 with 1 Axes>"
      ]
     },
     "metadata": {
      "needs_background": "light"
     },
     "output_type": "display_data"
    }
   ],
   "source": [
    "plt.plot(lrs)"
   ]
  },
  {
   "cell_type": "code",
   "execution_count": 8,
   "metadata": {},
   "outputs": [
    {
     "data": {
      "text/plain": [
       "[<matplotlib.lines.Line2D at 0x7fb1de078250>]"
      ]
     },
     "execution_count": 8,
     "metadata": {},
     "output_type": "execute_result"
    },
    {
     "data": {
      "image/png": "[encoded data removed]",
      "text/plain": [
       "<Figure size 432x288 with 1 Axes>"
      ]
     },
     "metadata": {
      "needs_background": "light"
     },
     "output_type": "display_data"
    }
   ],
   "source": [
    "plt.plot(lrs)"
   ]
  },
  {
   "cell_type": "code",
   "execution_count": 9,
   "metadata": {},
   "outputs": [
    {
     "data": {
      "text/plain": [
       "[<matplotlib.lines.Line2D at 0x7fb1ddfed340>]"
      ]
     },
     "execution_count": 9,
     "metadata": {},
     "output_type": "execute_result"
    },
    {
     "data": {
      "image/png": "[encoded data removed]",
      "text/plain": [
       "<Figure size 432x288 with 1 Axes>"
      ]
     },
     "metadata": {
      "needs_background": "light"
     },
     "output_type": "display_data"
    }
   ],
   "source": [
    "plt.plot(train_losses)"
   ]
  },
  {
   "cell_type": "code",
   "execution_count": 10,
   "metadata": {},
   "outputs": [
    {
     "data": {
      "text/plain": [
       "[<matplotlib.lines.Line2D at 0x7fb1ddfc7880>]"
      ]
     },
     "execution_count": 10,
     "metadata": {},
     "output_type": "execute_result"
    },
    {
     "data": {
      "image/png": "[encoded data removed]",
      "text/plain": [
       "<Figure size 432x288 with 1 Axes>"
      ]
     },
     "metadata": {
      "needs_background": "light"
     },
     "output_type": "display_data"
    }
   ],
   "source": [
    "plt.plot(val_losses[3:])"
   ]
  }
 ],
 "metadata": {
  "kernelspec": {
   "display_name": "base",
   "language": "python",
   "name": "python3"
  },
  "language_info": {
   "codemirror_mode": {
    "name": "ipython",
    "version": 3
   },
   "file_extension": ".py",
   "mimetype": "text/x-python",
   "name": "python",
   "nbconvert_exporter": "python",
   "pygments_lexer": "ipython3",
   "version": "3.9.12"
  },
  "orig_nbformat": 4
 },
 "nbformat": 4,
 "nbformat_minor": 2
}
